{
  "cells": [
    {
      "cell_type": "markdown",
      "metadata": {
        "id": "FMqboNwO4rVs"
      },
      "source": [
        "# **Курс \"Програмування на мові Python\"**"
      ]
    },
    {
      "cell_type": "markdown",
      "metadata": {
        "id": "A2T6MigL5Z06"
      },
      "source": [
        "## **Практичне зайняття №15**\n",
        "\n",
        "### Тема: \"Ітератори та генератори\""
      ]
    },
    {
      "cell_type": "markdown",
      "metadata": {
        "id": "JfHbW2Ng8Ytb"
      },
      "source": [
        "### **1. Ітератори**"
      ]
    },
    {
      "cell_type": "markdown",
      "metadata": {
        "id": "hvdPzqtgqndq"
      },
      "source": [
        "**Ітератор** - це об'єкт, що містить набір значень, які можна підрахувати.\n",
        "\n",
        "Списки, кортежі, словники та множини є *об'єктами, що ітеруються*. Вони є контейнерами, які можна перетворити в ітератори за допомогою функції iter().\n",
        "\n",
        "Ітератор відрізняється від об'єкта, що ітерується, тим, що елементи ітератора не можна вивести одночасно за допомогою інструкції print(). Їх можна вивести або у циклі, або за допомогою функції next():"
      ]
    },
    {
      "cell_type": "code",
      "execution_count": null,
      "metadata": {
        "id": "HN7ODnDk3lVy"
      },
      "outputs": [],
      "source": [
        "mytuple = (\"apple\", \"banana\", \"cherry\")\n",
        "myit = iter(mytuple)\n",
        "\n",
        "print(myit)\n",
        "for i in myit:\n",
        "    print(i)"
      ]
    },
    {
      "cell_type": "code",
      "execution_count": null,
      "metadata": {
        "id": "LsBLelha2gLH"
      },
      "outputs": [],
      "source": [
        "mytuple = (\"apple\", \"banana\", \"cherry\")\n",
        "myit = iter(mytuple)\n",
        "\n",
        "print(next(myit))\n",
        "print(next(myit))\n",
        "print(next(myit))"
      ]
    },
    {
      "cell_type": "markdown",
      "metadata": {
        "id": "YCV8CXu92vsZ"
      },
      "source": [
        "Ще однією особливістю ітератора є те, що елементи ітератора можна перебрати лише один раз. Якщо спробувати зробити це вдруге, програма нічого не обробить."
      ]
    },
    {
      "cell_type": "code",
      "execution_count": null,
      "metadata": {
        "id": "6cVvcb877j0F"
      },
      "outputs": [],
      "source": [
        "mytuple = (\"apple\", \"banana\", \"cherry\")\n",
        "myit = iter(mytuple)\n",
        "\n",
        "print(\"First loop\")\n",
        "for i in myit:\n",
        "    print(i)\n",
        "\n",
        "print()\n",
        "print(\"Second loop\")\n",
        "for i in myit:\n",
        "    print(i)"
      ]
    },
    {
      "cell_type": "markdown",
      "metadata": {
        "id": "Zcp8CEDv8JO4"
      },
      "source": [
        "Якщо вийти за межі заданого діапазону значень, програма поверне помилку StopIteration."
      ]
    },
    {
      "cell_type": "code",
      "execution_count": null,
      "metadata": {
        "id": "blbgbMrx3V1T"
      },
      "outputs": [],
      "source": [
        "mytuple = (\"apple\", \"banana\", \"cherry\")\n",
        "myit = iter(mytuple)\n",
        "\n",
        "print(next(myit))\n",
        "print(next(myit))\n",
        "print(next(myit))\n",
        "print(next(myit))"
      ]
    },
    {
      "cell_type": "markdown",
      "metadata": {
        "id": "LQZA0LLM35Kk"
      },
      "source": [
        "Результом роботи функцій вищих порядків map() та filter() також є ітератори:"
      ]
    },
    {
      "cell_type": "code",
      "execution_count": null,
      "metadata": {
        "id": "kbbtqG7c3Ysb"
      },
      "outputs": [],
      "source": [
        "data = [1, 3, 5, 2, 7, 4, 10]\n",
        "d1 = map(lambda i: i + 1, data)\n",
        "d2 = filter(lambda i: i % 2 == 0, data)\n",
        "print(d1)\n",
        "print(d2)\n",
        "\n",
        "for i in d1:\n",
        "    print(i, end = ' ')\n",
        "\n",
        "print()\n",
        "for i in d2:\n",
        "    print(i, end = ' ')"
      ]
    },
    {
      "cell_type": "markdown",
      "metadata": {
        "id": "UcOyCVkd8b-J"
      },
      "source": [
        "### **2. Генератори**"
      ]
    },
    {
      "cell_type": "markdown",
      "metadata": {
        "id": "EpNPi0VemQQH"
      },
      "source": [
        "Генератори бувають *двох* типів: генератори-вирази та генератори-функції.\n",
        "\n",
        "**Генератори-вирази** призначені для створення ітераторів у циклі.\n",
        "\n",
        "Вони дуже подібні до генераторів списків. Але якщо генератори списків записуються у квадратних дужках, то генератори-вирази - у круглих. Наприклад:"
      ]
    },
    {
      "cell_type": "code",
      "execution_count": null,
      "metadata": {
        "id": "Ci_zcH1fnou5"
      },
      "outputs": [],
      "source": [
        "a = [i**2 for i in range(0,6)] #List generator\n",
        "b = (i**2 for i in range(0,6)) #Generator expression\n",
        "\n",
        "print(a)\n",
        "print(b)\n",
        "for i in b:\n",
        "    print(i, end = ' ')"
      ]
    },
    {
      "cell_type": "markdown",
      "metadata": {
        "id": "PmOgL5jIoyIX"
      },
      "source": [
        "Генератор b, на відміну від списку a, не зберігає всіх значень одночасно. Він зберігає лише поточне значення. Це дозволяє генераторам обробляти більші масиви даних. Наприклад, якщо потрібно створити список з великою кількістю елементів, програмі може просто не вистачити пам'яті:"
      ]
    },
    {
      "cell_type": "code",
      "execution_count": null,
      "metadata": {
        "id": "jbYEnClKqMq0"
      },
      "outputs": [],
      "source": [
        "#Don't run it!\n",
        "#a = list(range(1000000000))"
      ]
    },
    {
      "cell_type": "markdown",
      "metadata": {
        "id": "VqgIxPNgrUPd"
      },
      "source": [
        "За допомогою генератора-виразу це можна дуже просто та швидко зробити:"
      ]
    },
    {
      "cell_type": "code",
      "execution_count": null,
      "metadata": {
        "id": "94pphZj_scN1"
      },
      "outputs": [],
      "source": [
        "b = (i for i in range(1000000000))\n",
        "\n",
        "print(next(b))\n",
        "print(next(b))\n",
        "print(next(b))\n",
        "print(next(b))\n",
        "print(next(b))"
      ]
    },
    {
      "cell_type": "markdown",
      "metadata": {
        "id": "F1PIiCDq8do3"
      },
      "source": [
        "**Генератори-функції** - це спеціальні функції, які можна використовувати для генерування послідовності значень, записаних в ітератор.\n",
        "\n",
        "Єдине, що відрізняє функцію-генератор від звичайної функції є використання у функції-генераторі ключового слова yield.\n",
        "\n",
        "yield може використовуватись лише всередині функції або методу. Після виконання команди yield програма зупиняється, а сама команда повертає поточне циклічне значення ітератора.\n",
        "\n",
        "Генератори мають кілька переваг у порівнянні зі звичайними функціями. По-перше, генератори дозволяють економити пам'ять, оскільки, на відміну від звичайних функцій, на кожній ітерації вони зберігають лише поточне значення. По-друге, їхній запис дещо коротший.\n",
        "\n",
        "Найпростіший приклад функції-генератора:"
      ]
    },
    {
      "cell_type": "code",
      "execution_count": null,
      "metadata": {
        "id": "W9RShFuV6uqt"
      },
      "outputs": [],
      "source": [
        "def gen_numbers():\n",
        "    yield 1\n",
        "    yield 2\n",
        "    yield 3\n",
        "\n",
        "for i in gen_numbers():\n",
        "    print(i)"
      ]
    },
    {
      "cell_type": "markdown",
      "metadata": {
        "id": "-KaRO77V_b03"
      },
      "source": [
        "Розглянемо більш детально, що відбувається всередині генератора. Генератор припиняє свою роботу кожен раз, коли зустрічає ключове слово yield. Наступна ітерація починається з місця попередньої зупинки. Ця особливість продемонстрована у прикладі:"
      ]
    },
    {
      "cell_type": "code",
      "execution_count": null,
      "metadata": {
        "id": "o_kwhPxj_ArH"
      },
      "outputs": [],
      "source": [
        "def gen_numbers2():\n",
        "    print('Start')\n",
        "    yield 1\n",
        "    print('Continue')\n",
        "    yield 2\n",
        "    print('Final')\n",
        "    yield 3\n",
        "    print('End')\n",
        "    \n",
        "for i in gen_numbers2():\n",
        "    print(i)\n",
        "    print(\"End of the iteration\")\n",
        "    print()"
      ]
    },
    {
      "cell_type": "markdown",
      "metadata": {
        "id": "fCZ7O_1OB-D-"
      },
      "source": [
        "Значення ітераторів, що повертаються генераторами, також можна виводити за допомогою функції next():"
      ]
    },
    {
      "cell_type": "code",
      "execution_count": null,
      "metadata": {
        "id": "bfXRuaJvA6U7"
      },
      "outputs": [],
      "source": [
        "def gen_numbers():\n",
        "    yield 1\n",
        "    yield 2\n",
        "    yield 3\n",
        "\n",
        "gen = gen_numbers()\n",
        "\n",
        "print(gen)\n",
        "print(next(gen))\n",
        "print(next(gen))\n",
        "print(next(gen))"
      ]
    },
    {
      "cell_type": "markdown",
      "metadata": {
        "id": "ULXDc2YZDoeP"
      },
      "source": [
        "Можна створити генератор парних чисел від нуля до певного граничного значення:"
      ]
    },
    {
      "cell_type": "code",
      "execution_count": null,
      "metadata": {
        "colab": {
          "base_uri": "https://localhost:8080/"
        },
        "id": "InoHEXLmCZ1K",
        "outputId": "2828710c-4c87-4a17-f9a4-42775a87a6ee"
      },
      "outputs": [],
      "source": [
        "def evens_up_to(limit):\n",
        "    value = 0\n",
        "    while value <= limit:\n",
        "        yield value\n",
        "        value += 2\n",
        "\n",
        "for i in evens_up_to(6):\n",
        "    print(i, end=', ')"
      ]
    },
    {
      "cell_type": "markdown",
      "metadata": {
        "id": "nj0oT41SQhAa"
      },
      "source": [
        "Функції-генератори можуть викликатись у вкладених циклах. Наприклад:"
      ]
    },
    {
      "cell_type": "code",
      "execution_count": null,
      "metadata": {
        "colab": {
          "base_uri": "https://localhost:8080/"
        },
        "id": "f3lmA0vkPXmN",
        "outputId": "01530567-d8a8-4516-d941-d90a7b7b4b55"
      },
      "outputs": [],
      "source": [
        "for i in evens_up_to(4):\n",
        "    print('i:', i)\n",
        "    for j in evens_up_to(6):\n",
        "        print('j:', j, end=', ')\n",
        "print('')"
      ]
    },
    {
      "cell_type": "markdown",
      "metadata": {
        "id": "UthB97xH3kG1"
      },
      "source": [
        "Як бачимо, циклічна змінна *i* жорстко прив'язана до значень, що продукуються функцією evens_up_to() у зовнішньому циклі, а змінна *j* - до значень, що продукуються цією ж функцією у внутрішньому циклі.\n",
        "\n",
        "Оскільки генератори на кожній ітерації зберігають лише поточне значення, то за допомогою генератора можна створити навіть нескінченну послідовність. Наприклад:"
      ]
    },
    {
      "cell_type": "code",
      "execution_count": null,
      "metadata": {
        "id": "LBQZ_oR347p0"
      },
      "outputs": [],
      "source": [
        "def infinite_sequence():\n",
        "    num = 0\n",
        "    while True:\n",
        "        yield num\n",
        "        num += 1\n",
        "\n",
        "gen = infinite_sequence()\n",
        "\n",
        "print(next(gen))\n",
        "print(next(gen))\n",
        "print(next(gen))\n",
        "print(next(gen))"
      ]
    }
  ],
  "metadata": {
    "colab": {
      "collapsed_sections": [
        "ceZnlkaoqkV1"
      ],
      "name": "Practice_10-11.ipynb",
      "provenance": []
    },
    "kernelspec": {
      "display_name": "Python 3",
      "name": "python3"
    },
    "language_info": {
      "codemirror_mode": {
        "name": "ipython",
        "version": 3
      },
      "file_extension": ".py",
      "mimetype": "text/x-python",
      "name": "python",
      "nbconvert_exporter": "python",
      "pygments_lexer": "ipython3",
      "version": "3.10.0"
    }
  },
  "nbformat": 4,
  "nbformat_minor": 0
}
