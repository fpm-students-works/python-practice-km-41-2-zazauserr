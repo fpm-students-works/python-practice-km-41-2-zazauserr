{
 "cells": [
  {
   "cell_type": "markdown",
   "metadata": {
    "id": "FMqboNwO4rVs"
   },
   "source": [
    "# **Курс \"Програмування на мові Python\"**"
   ]
  },
  {
   "cell_type": "markdown",
   "metadata": {
    "id": "A2T6MigL5Z06"
   },
   "source": [
    "## **Практичне зайняття №9**\n",
    "\n",
    "### Тема: \"Робота з функціями. Локальні та глобальні змінні\""
   ]
  },
  {
   "cell_type": "markdown",
   "metadata": {
    "id": "cfCdgK2zXm7e"
   },
   "source": [
    "### **Завдання 1 (3 бали)**\n",
    "\n",
    "**Підрахувати визначник матриці, використовуючи правило перестановок.**\n",
    "\n",
    "Функція random_matrix() призначена для створення квадратної матриці випадкових чисел. Її змінювати непотрібно.\n",
    "\n",
    "Приклад використання методу permutations() для створення списку перестановок також подається у комірці з кодом.\n",
    "\n",
    "1) Створити 3 функції: функцію створення списку перестановок, функцію підрахунку добутків та функцію підрахунку загальної суми.\n",
    "\n",
    "2) Кожна функція має супроводжуватись рядком документації, що буде коротко описувати її призначення.\n",
    "\n",
    "3) Розмірність квадратної матриці має вводитись користувачем з клавіатури. Підрахунки виконувати лише в тому разі, якщо користувач введе ціле додатне число.\n",
    "\n",
    "4) Загальний результат повинен підраховуватись за допомогою композиції функцій.\n",
    "\n",
    "За бажанням можна перевірити правильність роботи програми за допомогою функції np.linalg.det(a)."
   ]
  },
  {
   "cell_type": "code",
   "execution_count": null,
   "metadata": {
    "id": "ifNX2M7LXm7f"
   },
   "outputs": [
    {
     "name": "stdout",
     "output_type": "stream",
     "text": [
      "[[4 6 5]\n",
      " [7 1 7]\n",
      " [0 9 9]]\n"
     ]
    }
   ],
   "source": [
    "import numpy as np\n",
    "import itertools\n",
    "\n",
    "def random_matrix(dim):\n",
    "    \"\"\"\n",
    "    The function generates a dim x dim array of integers between 0 and 10.\n",
    "    \"\"\"\n",
    "    matrix = np.random.randint(10, size=(dim, dim))\n",
    "\n",
    "    return matrix\n",
    "\n",
    "def permutations(dim):\n",
    "    \"\"\"\n",
    "    The function creates a list of all permutations of numbers from 1 to dim.\n",
    "    \"\"\"\n",
    "\n",
    "    return list(itertools.permutations(range(1, dim + 1)))\n",
    "\n",
    "def calculate_product(matrix, perm):\n",
    "    \"\"\"\n",
    "    The function computes the product of the elements of a matrix for a given permutation.\n",
    "    \"\"\"\n",
    "    product = 1\n",
    "    \n",
    "    for i in range(len(perm)):\n",
    "        product *= matrix[i][perm[i] - 1]\n",
    "\n",
    "    return product\n",
    "\n",
    "def calculate_determinant(matrix):\n",
    "    \"\"\"\n",
    "    The function calculates the determinant of a matrix using the permutation rule.\n",
    "    \"\"\"\n",
    "    dim = len(matrix)\n",
    "    perms = permutations(dim)\n",
    "    determinant = 0\n",
    "    for perm in perms:\n",
    "        invert = 0\n",
    "\n",
    "        for i in range(dim):\n",
    "\n",
    "            for j in range(i + 1, dim):\n",
    "\n",
    "                if perm[i] > perm[j]:\n",
    "                    invert += 1\n",
    "\n",
    "        sign = (-1) ** invert\n",
    "        product = calculate_product(matrix, perm)\n",
    "        determinant += sign * product\n",
    "    return determinant\n",
    "\n",
    "dim = int(input(\"Enter the dimensionality of the matrix = \"))\n",
    "\n",
    "if dim > 0:\n",
    "\n",
    "    matrix = random_matrix(dim)\n",
    "    print(\"Your matrix:\")\n",
    "    print(matrix)\n",
    "\n",
    "    ur_determinant = calculate_determinant(matrix)\n",
    "    \n",
    "    linalg_determinant = np.linalg.det(matrix)\n",
    "\n",
    "    print(\"Determinant of your matrix (custom function):\", ur_determinant)\n",
    "    print(\"Determinant with np.linalg.det:\", linalg_determinant)\n",
    "\n",
    "else:\n",
    "    print(\"Enter an integer greater than 0.\")\n",
    "\n",
    "input(\"Press Enter to close this program...\")"
   ]
  }
 ],
 "metadata": {
  "colab": {
   "collapsed_sections": [],
   "name": "Practice_7_KM-01_.ipynb",
   "provenance": []
  },
  "kernelspec": {
   "display_name": "Python 3.10.2 64-bit",
   "language": "python",
   "name": "python3"
  },
  "language_info": {
   "codemirror_mode": {
    "name": "ipython",
    "version": 3
   },
   "file_extension": ".py",
   "mimetype": "text/x-python",
   "name": "python",
   "nbconvert_exporter": "python",
   "pygments_lexer": "ipython3",
   "version": "3.10.2"
  },
  "vscode": {
   "interpreter": {
    "hash": "26de051ba29f2982a8de78e945f0abaf191376122a1563185a90213a26c5da77"
   }
  }
 },
 "nbformat": 4,
 "nbformat_minor": 0
}
